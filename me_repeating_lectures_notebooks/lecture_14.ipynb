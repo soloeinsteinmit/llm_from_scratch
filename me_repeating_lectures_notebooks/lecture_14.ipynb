{
 "cells": [
  {
   "cell_type": "markdown",
   "id": "2591f01e",
   "metadata": {},
   "source": [
    "## **rebuilding simplified self-attention from scratch**"
   ]
  },
  {
   "cell_type": "markdown",
   "id": "4a081e11",
   "metadata": {},
   "source": [
    "steps\n",
    "1. compute the attention score for a query(i other words a token/word), journey, then scale is up to all\n",
    "2. normalize attentiona scores vector by applying softmax\n",
    "3. multiply attention weight my inputs to get the context vector"
   ]
  },
  {
   "cell_type": "code",
   "execution_count": 1,
   "id": "0e05c397",
   "metadata": {},
   "outputs": [],
   "source": [
    "import torch"
   ]
  },
  {
   "cell_type": "code",
   "execution_count": null,
   "id": "bef80098",
   "metadata": {},
   "outputs": [
    {
     "data": {
      "text/plain": [
       "tensor([0., 0., 0., 0., 0., 0.])"
      ]
     },
     "execution_count": 4,
     "metadata": {},
     "output_type": "execute_result"
    }
   ],
   "source": [
    "# computing context vector for a query(simple a word)\n",
    "# Corresponding words\n",
    "words = ['Your', 'journey', 'starts', 'with', 'one', 'step']\n",
    "\n",
    "inputs = torch.tensor(\n",
    "  [\n",
    "   [0.43, 0.15, 0.89], # Your     (x^1)\n",
    "   [0.55, 0.87, 0.66], # journey  (x^2)\n",
    "   [0.57, 0.85, 0.64], # starts   (x^3)\n",
    "   [0.22, 0.58, 0.33], # with     (x^4)\n",
    "   [0.77, 0.25, 0.10], # one      (x^5)\n",
    "   [0.05, 0.80, 0.55], # step     (x^6)\n",
    "  ]\n",
    ")\n",
    "\n",
    "journey_query = inputs[1] # which is journey\n",
    "attn_scores_journey = torch.zeros(inputs.shape[0])"
   ]
  },
  {
   "cell_type": "code",
   "execution_count": 10,
   "id": "c5853adb",
   "metadata": {},
   "outputs": [],
   "source": [
    "# computing attention score for the query journey\n",
    "# so the attention score for journey query is computed by doing a dot product journey query against all the other query in the input token or sequence\n",
    "\n",
    "for i, x_i in enumerate(inputs):\n",
    "    # so here we do dot product of each query again the journey to get the attention scores vector\n",
    "    attn_scores_journey[i] = torch.dot(x_i, journey_query)\n",
    "    "
   ]
  },
  {
   "cell_type": "code",
   "execution_count": 26,
   "id": "bafb94d7",
   "metadata": {},
   "outputs": [
    {
     "data": {
      "text/plain": [
       "tensor([0.9544, 1.4950, 1.4754, 0.8434, 0.7070, 1.0865])"
      ]
     },
     "execution_count": 26,
     "metadata": {},
     "output_type": "execute_result"
    }
   ],
   "source": [
    "attn_scores_journey"
   ]
  },
  {
   "cell_type": "code",
   "execution_count": 17,
   "id": "1cc84822",
   "metadata": {},
   "outputs": [
    {
     "data": {
      "text/plain": [
       "tensor([0.1385, 0.2379, 0.2333, 0.1240, 0.1082, 0.1581])"
      ]
     },
     "execution_count": 17,
     "metadata": {},
     "output_type": "execute_result"
    }
   ],
   "source": [
    "# attn_scores_journey.size()\n",
    "# print(\"journey attention scores are\", attn_scores_journey)\n",
    "\n",
    "# now we normalize the attention score\n",
    "attn_scores_journey_weights = torch.softmax(attn_scores_journey, dim=0)\n",
    "attn_scores_journey_weights"
   ]
  },
  {
   "cell_type": "code",
   "execution_count": 22,
   "id": "656b84c6",
   "metadata": {},
   "outputs": [
    {
     "name": "stdout",
     "output_type": "stream",
     "text": [
      "journey's context vector is  tensor([0.4419, 0.6515, 0.5683])\n"
     ]
    }
   ],
   "source": [
    "# we now compute the context vector\n",
    "# this well be done by first multiplyin the attention weight by each input embeddings and then summing them all up\n",
    "journey_query_context_vector = torch.zeros(inputs.shape[-1])\n",
    "\n",
    "for i, x_i in enumerate(inputs):\n",
    "   journey_query_context_vector += attn_scores_journey_weights[i] * x_i\n",
    "\n",
    "\n",
    "print(\"journey's context vector is \", journey_query_context_vector)"
   ]
  },
  {
   "cell_type": "markdown",
   "id": "26b0bde6",
   "metadata": {},
   "source": [
    "**now computing context vecore for all input embedding... scaling it up**\n",
    "![](../images/L14_s7.png)"
   ]
  },
  {
   "cell_type": "markdown",
   "id": "8a90634c",
   "metadata": {},
   "source": [
    "### two main rules of matrix mul\n",
    "1. the inner dimention must always much\n",
    "    - `(3, 2) @ (3, 2)` won't work ❌❌\n",
    "    - `(3, 2) @ (2, 3)` will work ✅✅\n",
    "    - `(2, 3) @ (3, 2)` will work ✅✅\n",
    "\n",
    "2. the resulting matrix has always has the shape fo the outer dimension\n",
    "    - `(2,4) @ (4, 2)` -> `(2, 2)`\n",
    "    - `(5, 3) @ (3, 4)` -> `(5, 4)`"
   ]
  },
  {
   "cell_type": "code",
   "execution_count": 27,
   "id": "baedd3b8",
   "metadata": {},
   "outputs": [
    {
     "data": {
      "text/plain": [
       "(torch.Size([6, 3]), torch.Size([3, 6]))"
      ]
     },
     "execution_count": 27,
     "metadata": {},
     "output_type": "execute_result"
    }
   ],
   "source": [
    "inputs.shape, inputs.T.shape"
   ]
  },
  {
   "cell_type": "code",
   "execution_count": 28,
   "id": "f590f31f",
   "metadata": {},
   "outputs": [
    {
     "data": {
      "text/plain": [
       "(tensor([[0.4300, 0.1500, 0.8900],\n",
       "         [0.5500, 0.8700, 0.6600],\n",
       "         [0.5700, 0.8500, 0.6400],\n",
       "         [0.2200, 0.5800, 0.3300],\n",
       "         [0.7700, 0.2500, 0.1000],\n",
       "         [0.0500, 0.8000, 0.5500]]),\n",
       " tensor([[0.4300, 0.5500, 0.5700, 0.2200, 0.7700, 0.0500],\n",
       "         [0.1500, 0.8700, 0.8500, 0.5800, 0.2500, 0.8000],\n",
       "         [0.8900, 0.6600, 0.6400, 0.3300, 0.1000, 0.5500]]))"
      ]
     },
     "execution_count": 28,
     "metadata": {},
     "output_type": "execute_result"
    }
   ],
   "source": [
    "inputs, inputs.T"
   ]
  },
  {
   "cell_type": "code",
   "execution_count": 29,
   "id": "348951e1",
   "metadata": {},
   "outputs": [
    {
     "data": {
      "text/plain": [
       "tensor([[0.9995, 0.9544, 0.9422, 0.4753, 0.4576, 0.6310],\n",
       "        [0.9544, 1.4950, 1.4754, 0.8434, 0.7070, 1.0865],\n",
       "        [0.9422, 1.4754, 1.4570, 0.8296, 0.7154, 1.0605],\n",
       "        [0.4753, 0.8434, 0.8296, 0.4937, 0.3474, 0.6565],\n",
       "        [0.4576, 0.7070, 0.7154, 0.3474, 0.6654, 0.2935],\n",
       "        [0.6310, 1.0865, 1.0605, 0.6565, 0.2935, 0.9450]])"
      ]
     },
     "execution_count": 29,
     "metadata": {},
     "output_type": "execute_result"
    }
   ],
   "source": [
    "# computing attention scores for all input embedding using matrix multiplication\n",
    "attn_matrix = inputs @ inputs.T # this also works -> torch.matmul(inputs, inputs.T)\n",
    "attn_matrix"
   ]
  },
  {
   "cell_type": "code",
   "execution_count": 40,
   "id": "b05d0b8b",
   "metadata": {},
   "outputs": [
    {
     "data": {
      "text/plain": [
       "tensor([[0.2098, 0.2006, 0.1981, 0.1242, 0.1220, 0.1452],\n",
       "        [0.1385, 0.2379, 0.2333, 0.1240, 0.1082, 0.1581],\n",
       "        [0.1390, 0.2369, 0.2326, 0.1242, 0.1108, 0.1565],\n",
       "        [0.1435, 0.2074, 0.2046, 0.1462, 0.1263, 0.1720],\n",
       "        [0.1526, 0.1958, 0.1975, 0.1367, 0.1879, 0.1295],\n",
       "        [0.1385, 0.2184, 0.2128, 0.1420, 0.0988, 0.1896]])"
      ]
     },
     "execution_count": 40,
     "metadata": {},
     "output_type": "execute_result"
    }
   ],
   "source": [
    "attn_weight_matrix = torch.softmax(attn_matrix, dim=-1)\n",
    "attn_weight_matrix"
   ]
  },
  {
   "cell_type": "code",
   "execution_count": 41,
   "id": "e272431b",
   "metadata": {},
   "outputs": [
    {
     "data": {
      "text/plain": [
       "(torch.Size([6, 6]), torch.Size([6, 3]))"
      ]
     },
     "execution_count": 41,
     "metadata": {},
     "output_type": "execute_result"
    }
   ],
   "source": [
    "attn_matrix.shape, inputs.shape"
   ]
  },
  {
   "cell_type": "code",
   "execution_count": 42,
   "id": "d58508e4",
   "metadata": {},
   "outputs": [
    {
     "data": {
      "text/plain": [
       "tensor([[0.4421, 0.5931, 0.5790],\n",
       "        [0.4419, 0.6515, 0.5683],\n",
       "        [0.4431, 0.6496, 0.5671],\n",
       "        [0.4304, 0.6298, 0.5510],\n",
       "        [0.4671, 0.5910, 0.5266],\n",
       "        [0.4177, 0.6503, 0.5645]])"
      ]
     },
     "execution_count": 42,
     "metadata": {},
     "output_type": "execute_result"
    }
   ],
   "source": [
    "# now that we have our attention weights, we compute the context vector\n",
    "context_vector = attn_weight_matrix @ inputs\n",
    "context_vector"
   ]
  },
  {
   "cell_type": "code",
   "execution_count": 44,
   "id": "6f840a37",
   "metadata": {},
   "outputs": [
    {
     "data": {
      "text/plain": [
       "(tensor([0.4419, 0.6515, 0.5683]), tensor([0.4419, 0.6515, 0.5683]))"
      ]
     },
     "execution_count": 44,
     "metadata": {},
     "output_type": "execute_result"
    }
   ],
   "source": [
    "# checking to see if the individual computation i did was similar to doing all the computation at a go using the matrix multiplication.. and they are actually quite similar\n",
    "journey_query_context_vector, context_vector[1]"
   ]
  },
  {
   "cell_type": "code",
   "execution_count": null,
   "id": "66d8d241",
   "metadata": {},
   "outputs": [],
   "source": []
  }
 ],
 "metadata": {
  "kernelspec": {
   "display_name": "sophia-dl",
   "language": "python",
   "name": "python3"
  },
  "language_info": {
   "codemirror_mode": {
    "name": "ipython",
    "version": 3
   },
   "file_extension": ".py",
   "mimetype": "text/x-python",
   "name": "python",
   "nbconvert_exporter": "python",
   "pygments_lexer": "ipython3",
   "version": "3.9.20"
  }
 },
 "nbformat": 4,
 "nbformat_minor": 5
}
