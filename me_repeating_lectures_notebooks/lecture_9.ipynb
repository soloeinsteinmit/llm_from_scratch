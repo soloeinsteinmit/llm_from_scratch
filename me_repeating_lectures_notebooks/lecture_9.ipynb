{
 "cells": [
  {
   "cell_type": "markdown",
   "id": "5120ed53",
   "metadata": {},
   "source": [
    "### **Creating Input-Output/Target pairs**"
   ]
  },
  {
   "cell_type": "code",
   "execution_count": 1,
   "id": "307df62f",
   "metadata": {},
   "outputs": [],
   "source": [
    "import torch\n",
    "import tiktoken"
   ]
  },
  {
   "cell_type": "code",
   "execution_count": 2,
   "id": "fd057cff",
   "metadata": {},
   "outputs": [
    {
     "data": {
      "text/plain": [
       "\"Harry Potter and the Sorcerer's Stone\\n\\n\\nCHAPTER ON\""
      ]
     },
     "execution_count": 2,
     "metadata": {},
     "output_type": "execute_result"
    }
   ],
   "source": [
    "# read file content\n",
    "with open (\"../data/harry-potter.txt\", \"r\", encoding=\"utf-8\") as f:\n",
    "    raw_text = f.read()\n",
    "    \n",
    "raw_text[:50]"
   ]
  },
  {
   "cell_type": "code",
   "execution_count": 3,
   "id": "b7d43504",
   "metadata": {},
   "outputs": [
    {
     "name": "stdout",
     "output_type": "stream",
     "text": [
      "[18308, 14179, 290, 262, 30467, 338, 8026, 628, 198, 41481, 16329, 198, 198, 10970, 16494, 56, 19494, 406, 3824, 1961, 198, 198, 5246, 13, 290, 9074, 13, 360, 1834, 1636, 11, 286, 1271, 1440, 11, 4389, 16809, 9974, 11, 547, 6613, 284, 910, 198, 5562, 484, 547, 7138, 3487, 11]\n"
     ]
    }
   ],
   "source": [
    "# tokenize file content\n",
    "tokenizer = tiktoken.get_encoding(encoding_name=\"gpt2\")\n",
    "encoded_raw_text = tokenizer.encode(raw_text)\n",
    "print(encoded_raw_text[:50])"
   ]
  },
  {
   "cell_type": "code",
   "execution_count": 18,
   "id": "cc113a71",
   "metadata": {},
   "outputs": [
    {
     "name": "stdout",
     "output_type": "stream",
     "text": [
      "x: [2215, 1770, 13, 290, 9074, 13, 360, 1834, 1636, 19092]\n",
      "y:      [1770, 13, 290, 9074, 13, 360, 1834, 1636, 19092, 510]\n"
     ]
    }
   ],
   "source": [
    "# create simple input-target pair with sliding window\n",
    "context_size = 10\n",
    "\n",
    "encoded_sample = encoded_raw_text[401:]\n",
    "x = encoded_sample[:context_size]\n",
    "y = encoded_sample[1:context_size+1]\n",
    "\n",
    "print(f\"x: {x}\")\n",
    "print(f\"y:      {y}\")"
   ]
  },
  {
   "cell_type": "code",
   "execution_count": 19,
   "id": "743e4063",
   "metadata": {},
   "outputs": [
    {
     "name": "stdout",
     "output_type": "stream",
     "text": [
      "[2215] ---> 1770\n",
      "[2215, 1770] ---> 13\n",
      "[2215, 1770, 13] ---> 290\n",
      "[2215, 1770, 13, 290] ---> 9074\n",
      "[2215, 1770, 13, 290, 9074] ---> 13\n",
      "[2215, 1770, 13, 290, 9074, 13] ---> 360\n",
      "[2215, 1770, 13, 290, 9074, 13, 360] ---> 1834\n",
      "[2215, 1770, 13, 290, 9074, 13, 360, 1834] ---> 1636\n",
      "[2215, 1770, 13, 290, 9074, 13, 360, 1834, 1636] ---> 19092\n",
      "[2215, 1770, 13, 290, 9074, 13, 360, 1834, 1636, 19092] ---> 510\n"
     ]
    }
   ],
   "source": [
    "# visualize visualize visualize\n",
    "for i in range(1, context_size+1):\n",
    "    input = encoded_sample[:i]\n",
    "    \n",
    "    target = encoded_sample[i]\n",
    "    \n",
    "    print(f\"{input} ---> {target}\")"
   ]
  },
  {
   "cell_type": "code",
   "execution_count": 20,
   "id": "7a1bc8c5",
   "metadata": {},
   "outputs": [
    {
     "name": "stdout",
     "output_type": "stream",
     "text": [
      "When --->  Mr\n",
      "When Mr ---> .\n",
      "When Mr. --->  and\n",
      "When Mr. and --->  Mrs\n",
      "When Mr. and Mrs ---> .\n",
      "When Mr. and Mrs. --->  D\n",
      "When Mr. and Mrs. D ---> urs\n",
      "When Mr. and Mrs. Durs ---> ley\n",
      "When Mr. and Mrs. Dursley --->  woke\n",
      "When Mr. and Mrs. Dursley woke --->  up\n"
     ]
    }
   ],
   "source": [
    "# let visualise the decoded text\n",
    "for i in range(1, context_size+1):\n",
    "    input = encoded_sample[:i]\n",
    "    target = encoded_sample[i]\n",
    "    \n",
    "    print(f\"{tokenizer.decode(input)} ---> {tokenizer.decode([target])}\")"
   ]
  },
  {
   "cell_type": "code",
   "execution_count": null,
   "id": "f85c718c",
   "metadata": {},
   "outputs": [],
   "source": [
    "# now let implement pytorch datasets\n",
    "from torch.utils.data import DataLoader, Dataset\n",
    "\n",
    "class GPTDatasetV1(Dataset):\n",
    "    def __init__(self, raw_text, tokenizer, context_size, stride):\n",
    "        self.input_ids = []\n",
    "        self.target_ids = []\n",
    "        \n",
    "        # tokenize the raw text\n",
    "        token_ids = tokenizer.encode(raw_text, allowed_special={\"<|endoftext|>\"})\n",
    "        \n",
    "        # using sliding window to create input-output/target dataset\n",
    "        # check the main lecture_9.ipynb to see the explaination for why - context_size\n",
    "        for i in range(0, len(token_ids) - context_size, stride):\n",
    "            # takes ~ 1.5sec to create datasets\n",
    "            input_chunk = token_ids[i : i + context_size]\n",
    "            target_chunk = token_ids[i + 1 : i + context_size + 1]\n",
    "            \n",
    "            self.input_ids.append(torch.tensor(input_chunk))\n",
    "            self.target_ids.append(torch.tensor(target_chunk))\n",
    "            \n",
    "            # much short version of the 4 lines above will be, this is shorter yet takes too much compute as the computer is trying to do so many things as a time... this is slower... takes ~ 10sec to create dataset\n",
    "            # self.input_ids.append(torch.tensor(token_ids[i : i + context_size]))\n",
    "            # self.target_ids.append(torch.tensor(token_ids[i + 1 : i + context_size + 1]))\n",
    "            \n",
    "    def __len__(self):\n",
    "        return len(self.input_ids)\n",
    "    \n",
    "    # this here for pytorch dataloader to get item in the dataset at a time\n",
    "    def __getitem__(self, index):\n",
    "        return self.input_ids[index], self.target_ids[index]  "
   ]
  },
  {
   "cell_type": "code",
   "execution_count": 37,
   "id": "dc79e7c2",
   "metadata": {},
   "outputs": [],
   "source": [
    "# let create a dataloader to load our dataset\n",
    "def create_dataloader_v1(\n",
    "    raw_text,\n",
    "    batch_size = 4, \n",
    "    context_size = 256,\n",
    "    stride = 128,\n",
    "    shuffle = True,\n",
    "    drop_last = True,\n",
    "    num_workers = 0\n",
    "):\n",
    "    # initialize tokenizer\n",
    "    tokenizer = tiktoken.get_encoding(encoding_name=\"gpt2\")\n",
    "    \n",
    "    # create dataset\n",
    "    dataset = GPTDatasetV1(raw_text=raw_text, tokenizer=tokenizer, context_size=context_size, stride=stride)\n",
    "    \n",
    "    # create dataloader\n",
    "    dataloader = DataLoader(\n",
    "        dataset=dataset,\n",
    "        batch_size=batch_size,\n",
    "        shuffle=shuffle,\n",
    "        drop_last=drop_last,\n",
    "        num_workers=num_workers\n",
    "    )\n",
    "    \n",
    "    return dataloader"
   ]
  },
  {
   "cell_type": "code",
   "execution_count": 38,
   "id": "15de4f30",
   "metadata": {},
   "outputs": [],
   "source": [
    "dataloader = create_dataloader_v1(raw_text=raw_text, batch_size=4, context_size=256, stride=128,shuffle=False, drop_last=True)\n",
    "\n",
    "data_iter = iter(dataloader)\n",
    "inputs,targets = next(data_iter)"
   ]
  },
  {
   "cell_type": "code",
   "execution_count": 39,
   "id": "fb972305",
   "metadata": {},
   "outputs": [
    {
     "name": "stdout",
     "output_type": "stream",
     "text": [
      "Inputs:\n",
      " tensor([[18308, 14179,   290,  ...,    13,   198, 25396],\n",
      "        [ 1588, 49303,    13,  ...,  1010,  1497,    26],\n",
      "        [  353,   373,  9074,  ..., 10381,  1613,   262],\n",
      "        [  484,  1422,   470,  ...,   257,  1218,    11]])\n",
      "Targets:\n",
      " tensor([[14179,   290,   262,  ...,   198, 25396,   353],\n",
      "        [49303,    13,  9074,  ...,  1497,    26,   484],\n",
      "        [  373,  9074,    13,  ...,  1613,   262,  4324],\n",
      "        [ 1422,   470,   765,  ...,  1218,    11,  1770]])\n"
     ]
    }
   ],
   "source": [
    "print(f\"Inputs:\\n {inputs}\")\n",
    "print(f\"Targets:\\n {targets}\")"
   ]
  },
  {
   "cell_type": "code",
   "execution_count": null,
   "id": "d0ab49ab",
   "metadata": {},
   "outputs": [],
   "source": []
  }
 ],
 "metadata": {
  "kernelspec": {
   "display_name": "sophia-dl",
   "language": "python",
   "name": "python3"
  },
  "language_info": {
   "codemirror_mode": {
    "name": "ipython",
    "version": 3
   },
   "file_extension": ".py",
   "mimetype": "text/x-python",
   "name": "python",
   "nbconvert_exporter": "python",
   "pygments_lexer": "ipython3",
   "version": "3.9.20"
  }
 },
 "nbformat": 4,
 "nbformat_minor": 5
}
