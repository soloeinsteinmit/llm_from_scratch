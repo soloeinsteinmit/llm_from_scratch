{
 "cells": [
  {
   "cell_type": "markdown",
   "id": "1023d469",
   "metadata": {},
   "source": [
    "# **`COURAGE` IS GOING FROM `FAILURE` TO FAILURE` WITHOUT `LOSING ENTHUSIAM`**"
   ]
  },
  {
   "cell_type": "markdown",
   "id": "fd043583",
   "metadata": {},
   "source": []
  },
  {
   "cell_type": "markdown",
   "id": "83ebdb30",
   "metadata": {},
   "source": [
    "# **Data Preprocessing**\n",
    "\n",
    "NB: lecture note found here **[🔹 Lecture 12 Notes 🔹](lecture_12_notes.md)**\n",
    "\n",
    "this lecture is to build the whole preprocessing pipeline from scratch\n",
    "\n",
    "basically in this lecture we're revising everything we've done so far\n"
   ]
  },
  {
   "cell_type": "code",
   "execution_count": 1,
   "id": "3ced9e2e",
   "metadata": {},
   "outputs": [],
   "source": [
    "import torch\n",
    "import tiktoken"
   ]
  },
  {
   "cell_type": "markdown",
   "id": "9588eb9b",
   "metadata": {},
   "source": [
    "### **Step 1: Creating tokens**"
   ]
  },
  {
   "cell_type": "code",
   "execution_count": 2,
   "id": "12736ec8",
   "metadata": {},
   "outputs": [
    {
     "name": "stdout",
     "output_type": "stream",
     "text": [
      "total number of character: 20479\n",
      "I HAD always thought Jack Gisburn rather a cheap genius--though a good fellow enough--so it was no \n"
     ]
    }
   ],
   "source": [
    "# first load the text data\n",
    "with open(\"./data/the-verdict.txt\", \"r\", encoding=\"utf-8\") as f:\n",
    "    raw_text = f.read()\n",
    "    \n",
    "print(f\"total number of character: {len(raw_text)}\")\n",
    "print(raw_text[:99])"
   ]
  },
  {
   "cell_type": "markdown",
   "id": "b2f47339",
   "metadata": {},
   "source": [
    "#### **implementing word based tokenization**"
   ]
  },
  {
   "cell_type": "code",
   "execution_count": 3,
   "id": "4e20655a",
   "metadata": {},
   "outputs": [
    {
     "name": "stdout",
     "output_type": "stream",
     "text": [
      "4690\n",
      "['I', 'HAD', 'always', 'thought', 'Jack', 'Gisburn', 'rather', 'a', 'cheap', 'genius', '--', 'though', 'a', 'good', 'fellow', 'enough', '--', 'so', 'it', 'was', 'no', 'great', 'surprise', 'to', 'me', 'to', 'hear', 'that', ',', 'in', 'the', 'height', 'of', 'his', 'glory', ',', 'he', 'had', 'dropped', 'his', 'painting', ',', 'married', 'a', 'rich', 'widow', ',', 'and', 'established', 'himself', 'in', 'a', 'villa', 'on', 'the', 'Riviera', '.', '(', 'Though', 'I', 'rather', 'thought', 'it', 'would', 'have', 'been', 'Rome', 'or', 'Florence', '.', ')', '\"', 'The', 'height', 'of', 'his', 'glory', '\"', '--', 'that', 'was', 'what', 'the', 'women', 'called', 'it', '.', 'I', 'can', 'hear', 'Mrs', '.', 'Gideon', 'Thwing', '--', 'his', 'last', 'Chicago', 'sitter']\n"
     ]
    }
   ],
   "source": [
    "import re\n",
    "\n",
    "preprocessed_text = re.split(r'(--|[.,\"-():;?_!\\']|\\s)', raw_text)\n",
    "preprocessed_text = [item.strip() for item in preprocessed_text if item.strip()]\n",
    "print(len(preprocessed_text))\n",
    "print(preprocessed_text[:99])\n"
   ]
  },
  {
   "cell_type": "markdown",
   "id": "022292cb",
   "metadata": {},
   "source": [
    "#### **creating vocabs**\n",
    "vocabs is the dict of all unique words with their token ids <br>\n",
    "so first get all unique words then create the vocabs"
   ]
  },
  {
   "cell_type": "code",
   "execution_count": 13,
   "id": "56591d56",
   "metadata": {},
   "outputs": [
    {
     "name": "stdout",
     "output_type": "stream",
     "text": [
      "['!', '\"', \"'\", '(', ')', ',', '--', '.', ':', ';', '?', 'A', 'Ah', 'Among', 'And', 'Are', 'Arrt', 'As', 'At', 'Be', 'Begin', 'Burlington', 'But', 'By', 'Carlo', 'Chicago', 'Claude', 'Come', 'Croft', 'Destroyed', 'Devonshire', 'Don', 'Dubarry', 'Emperors', 'Florence', 'For', 'Gallery', 'Gideon', 'Gisburn', 'Gisburns', 'Grafton', 'Greek', 'Grindle', 'Grindles', 'HAD', 'Had', 'Hang', 'Has', 'He', 'Her', 'Hermia', 'His', 'How', 'I', 'If', 'In', 'It', 'Jack', 'Jove', 'Just', 'Lord', 'Made', 'Miss', 'Money', 'Monte', 'Moon-dancers', 'Mr', 'Mrs', 'My', 'Never', 'No', 'Now', 'Nutley', 'Of', 'Oh', 'On', 'Once', 'Only', 'Or', 'Perhaps', 'Poor', 'Professional', 'Renaissance', 'Rickham', 'Riviera', 'Rome', 'Russian', 'Sevres', 'She', 'Stroud', 'Strouds', 'Suddenly', 'That', 'The', 'Then', 'There', 'They', 'This', 'Those']\n",
      "1132\n"
     ]
    }
   ],
   "source": [
    "# use set ds to remove all duplicate\n",
    "all_unique_words = sorted(set(preprocessed_text))\n",
    "# adding special tokens\n",
    "all_unique_words.extend([\"<|endoftext|>\", \"<|unk|>\"])\n",
    "print(all_unique_words[:99])\n",
    "print(len(all_unique_words))"
   ]
  },
  {
   "cell_type": "code",
   "execution_count": 18,
   "id": "561f6167",
   "metadata": {},
   "outputs": [
    {
     "name": "stdout",
     "output_type": "stream",
     "text": [
      "1132\n"
     ]
    }
   ],
   "source": [
    "# now up to creating vocabs\n",
    "vocabs = {token: token_id for token_id, token in enumerate(all_unique_words)}\n",
    "print(len(vocabs))"
   ]
  },
  {
   "cell_type": "markdown",
   "id": "4e87459e",
   "metadata": {},
   "source": [
    "#### **using the word based tokenizer class to create vocabs and then try encoding and decoding**"
   ]
  },
  {
   "cell_type": "code",
   "execution_count": 18,
   "id": "c31d9752",
   "metadata": {},
   "outputs": [],
   "source": [
    "from word_based_tokenizer import SimpleWordBasedTokenizer"
   ]
  },
  {
   "cell_type": "code",
   "execution_count": 19,
   "id": "9f3c5913",
   "metadata": {},
   "outputs": [],
   "source": [
    "wb_tokenizer = SimpleWordBasedTokenizer(split_regex=r'(--|[.,\"-():;?_!\\']|\\s)')\n",
    "\n",
    "vocabs = wb_tokenizer.create_vocabs(raw_text=raw_text)\n"
   ]
  },
  {
   "cell_type": "code",
   "execution_count": 21,
   "id": "0b87a400",
   "metadata": {},
   "outputs": [
    {
     "data": {
      "text/plain": [
       "1132"
      ]
     },
     "execution_count": 21,
     "metadata": {},
     "output_type": "execute_result"
    }
   ],
   "source": [
    "len(vocabs)"
   ]
  },
  {
   "cell_type": "code",
   "execution_count": 20,
   "id": "5c1cac46",
   "metadata": {},
   "outputs": [
    {
     "name": "stdout",
     "output_type": "stream",
     "text": [
      "[53, 643, 1051, 140, 5, 157, 250, 887, 722, 987, 899, 722, 988, 361, 524, 727, 988, 1072, 701, 549, 207, 7, 51, 1103, 1017, 663, 139, 585, 1077, 988, 602, 996, 533, 514, 360, 6, 590, 115, 712, 973, 1108, 115, 874, 521, 5, 1090, 533, 1077, 362, 568, 30, 825, 477, 115, 791, 537, 183, 7, 59, 115, 712, 0, 22, 585, 980, 549, 1098, 550, 7, 95, 169, 1123, 722, 762, 860, 766, 568, 403, 630, 7, 11, 656, 1097, 514, 969, 1108, 988, 308, 292, 707, 530, 611, 987, 672, 1052, 938, 7, 7, 7, 7, 1131]\n",
      "I looked up again, and caught sight of that sketch of the donkey hanging on the wall near his bed. His wife told me afterward it was the last thing he had done -- just a note taken with a shaking hand, when he was down in Devonshire recovering from a previous heart attack. Just a note! But it tells his whole history. There are years of patient scornful persistence in every line. A man who had swum with the current could never have learned that mighty up-stream stroke.... <|unk|>\n"
     ]
    }
   ],
   "source": [
    "sample_text = \"\"\"\n",
    "I looked up again, and caught sight of that sketch of the donkey hanging on the wall near his bed. His wife told me afterward it was the last thing he had done--just a note taken with a shaking hand, when he was down in Devonshire recovering from a previous heart attack. Just a note! But it tells his whole history. There are years of patient scornful persistence in every line. A man who had swum with the current could never have learned that mighty up-stream stroke. . . .*\n",
    "\"\"\"\n",
    "\n",
    "enc_samp_text = wb_tokenizer.encode(sample_text)\n",
    "print(enc_samp_text)\n",
    "print(wb_tokenizer.decode(enc_samp_text))"
   ]
  },
  {
   "cell_type": "markdown",
   "id": "b0849905",
   "metadata": {},
   "source": [
    "**the class is a word based tokenizer i create to tokenize textual data... it has functions to encode and decode... let test it out by copying from `the-verdict.txt` file and test the it out and see**"
   ]
  },
  {
   "cell_type": "markdown",
   "id": "641af1c1",
   "metadata": {},
   "source": [
    "#### **using Byte Pair Encoding(BPE), subwords encoding**"
   ]
  },
  {
   "cell_type": "code",
   "execution_count": 4,
   "id": "9669575b",
   "metadata": {},
   "outputs": [
    {
     "name": "stdout",
     "output_type": "stream",
     "text": [
      "5145\n"
     ]
    }
   ],
   "source": [
    "gpt2_tokenization = tiktoken.get_encoding(encoding_name=\"gpt2\")\n",
    "gpt2_tokenized_data = gpt2_tokenization.encode(raw_text)\n",
    "print(len(gpt2_tokenized_data))\n",
    "# print(gpt2_tokenization.decode(gpt2_tokenized_data))\n"
   ]
  },
  {
   "cell_type": "markdown",
   "id": "86d7beed",
   "metadata": {},
   "source": [
    "#### **creating input-target pair**"
   ]
  },
  {
   "cell_type": "code",
   "execution_count": 22,
   "id": "115607de",
   "metadata": {},
   "outputs": [],
   "source": [
    "from custom_dataloader import create_dataloader_v1"
   ]
  },
  {
   "cell_type": "code",
   "execution_count": 26,
   "id": "b5f4dd3a",
   "metadata": {},
   "outputs": [
    {
     "name": "stdout",
     "output_type": "stream",
     "text": [
      "tensor([[   40,   367,  2885,  1464],\n",
      "        [ 1807,  3619,   402,   271],\n",
      "        [10899,  2138,   257,  7026],\n",
      "        [15632,   438,  2016,   257],\n",
      "        [  922,  5891,  1576,   438],\n",
      "        [  568,   340,   373,   645],\n",
      "        [ 1049,  5975,   284,   502],\n",
      "        [  284,  3285,   326,    11]])\n",
      "tensor([[  367,  2885,  1464,  1807],\n",
      "        [ 3619,   402,   271, 10899],\n",
      "        [ 2138,   257,  7026, 15632],\n",
      "        [  438,  2016,   257,   922],\n",
      "        [ 5891,  1576,   438,   568],\n",
      "        [  340,   373,   645,  1049],\n",
      "        [ 5975,   284,   502,   284],\n",
      "        [ 3285,   326,    11,   287]])\n"
     ]
    }
   ],
   "source": [
    "batch_size = 8\n",
    "context_window = 4\n",
    "dataloader = create_dataloader_v1(\n",
    "    raw_text,batch_size=batch_size, max_length=context_window, stride=context_window, shuffle=False, drop_last=True\n",
    ")\n",
    "data_iter = iter(dataloader)\n",
    "inputs,target = next(data_iter)\n",
    "print(inputs)\n",
    "print(target)"
   ]
  },
  {
   "cell_type": "markdown",
   "id": "b861f17c",
   "metadata": {},
   "source": [
    "#### **Creating Vector/token embeddings & Postional Embeddings**"
   ]
  },
  {
   "cell_type": "code",
   "execution_count": null,
   "id": "ffbef15f",
   "metadata": {},
   "outputs": [],
   "source": []
  },
  {
   "cell_type": "code",
   "execution_count": 29,
   "id": "19fb1bf8",
   "metadata": {},
   "outputs": [
    {
     "name": "stdout",
     "output_type": "stream",
     "text": [
      "token embeddings weights:\n",
      " Parameter containing:\n",
      "tensor([[ 0.3374, -0.1778, -0.3035,  ...,  1.3337,  0.0771, -0.0522],\n",
      "        [ 0.2386,  0.1411, -1.3354,  ..., -0.0315, -1.0640,  0.9417],\n",
      "        [-1.3152, -0.0677, -0.1350,  ..., -0.3181, -1.3936,  0.5226],\n",
      "        ...,\n",
      "        [ 0.5871, -0.0572, -1.1628,  ..., -0.6887, -0.7364,  0.4479],\n",
      "        [ 0.4438,  0.7411,  1.1263,  ...,  1.2091,  0.6781,  0.3331],\n",
      "        [-0.2537,  0.1446,  0.7203,  ..., -0.2134,  0.2144,  0.3006]],\n",
      "       requires_grad=True) ---> shape: torch.Size([50257, 256])\n",
      "\n",
      "positional embeddings weights:\n",
      " Parameter containing:\n",
      "tensor([[ 0.5423, -0.1224, -1.4150,  ...,  0.2515, -2.3067,  0.8155],\n",
      "        [-0.3973, -1.2575, -1.9800,  ..., -0.1207,  0.3075, -0.6422],\n",
      "        [ 0.1840,  1.1128,  1.0052,  ...,  0.2081,  0.5531, -1.1619],\n",
      "        [ 1.4155,  0.6599,  0.3760,  ...,  0.7034, -0.6108,  0.1080]],\n",
      "       requires_grad=True) ---> shape: torch.Size([4, 256])\n"
     ]
    }
   ],
   "source": [
    "# print(token_ids)\n",
    "num_embeddings = 50257\n",
    "embeddings_dim = 256\n",
    "torch.manual_seed(123)\n",
    "\n",
    "# token/vector embeddings\n",
    "token_embeddings_layer = torch.nn.Embedding(\n",
    "    num_embeddings=num_embeddings, embedding_dim=embeddings_dim\n",
    ")\n",
    "# positional embeddings\n",
    "positional_embeddings_layer = torch.nn.Embedding(\n",
    "    num_embeddings=context_window, embedding_dim=embeddings_dim\n",
    ")\n",
    "print(f\"token embeddings weights:\\n {token_embeddings_layer.weight} ---> shape: {token_embeddings_layer.weight.shape}\")\n",
    "print(f\"\\npositional embeddings weights:\\n {positional_embeddings_layer.weight} ---> shape: {positional_embeddings_layer.weight.shape}\")"
   ]
  },
  {
   "cell_type": "code",
   "execution_count": 37,
   "id": "74feb717",
   "metadata": {},
   "outputs": [],
   "source": [
    "# fetching vector embedding for a particular token id\n",
    "inputs.shape\n",
    "# inputs\n",
    "token_embeddings = token_embeddings_layer(inputs)\n",
    "pos_embeddings = positional_embeddings_layer(torch.arange(context_window))\n"
   ]
  },
  {
   "cell_type": "markdown",
   "id": "82bad683",
   "metadata": {},
   "source": [
    "#### **Creating input embeddings**"
   ]
  },
  {
   "cell_type": "code",
   "execution_count": 39,
   "id": "665cfdae",
   "metadata": {},
   "outputs": [
    {
     "data": {
      "text/plain": [
       "(tensor([[[ 0.4784,  0.2094, -1.3080,  ...,  0.7864, -3.1091, -1.5083],\n",
       "          [-0.7497, -0.9066, -0.9927,  ..., -1.9672, -1.3960, -0.3200],\n",
       "          [ 1.1857,  2.0427, -0.2581,  ..., -1.0175,  1.6710, -1.0276],\n",
       "          [ 2.2151,  2.9436, -0.2765,  ..., -0.4182, -0.1402,  0.2612]],\n",
       " \n",
       "         [[ 0.4341, -1.3947, -2.6367,  ..., -0.6684, -0.2993, -0.5983],\n",
       "          [-0.6400, -0.3430, -0.8915,  ..., -0.9857,  3.8343,  0.0802],\n",
       "          [-0.3594,  2.7332,  2.2274,  ...,  0.8895, -0.8501, -1.0126],\n",
       "          [ 1.0652, -0.2726, -0.9140,  ..., -0.7946, -0.4708,  0.4810]],\n",
       " \n",
       "         [[ 0.6100, -1.1981, -1.2779,  ..., -0.1396, -3.4041,  1.5746],\n",
       "          [-1.6534, -0.9395, -1.9595,  ...,  0.6251, -0.7305, -2.3072],\n",
       "          [ 0.3030,  1.8729,  0.0746,  ...,  0.2088,  1.4137, -2.5317],\n",
       "          [ 1.4252,  1.2383,  0.6891,  ...,  0.5719, -1.7446, -1.0321]],\n",
       " \n",
       "         ...,\n",
       " \n",
       "         [[ 0.9363, -1.0170, -1.7172,  ..., -1.7176, -3.8629,  1.1428],\n",
       "          [ 0.7812, -1.5820, -2.6241,  ..., -0.5137, -0.7331, -2.0332],\n",
       "          [ 1.2547,  1.0974,  3.7448,  ..., -0.0833,  0.5437, -0.2014],\n",
       "          [ 1.9628,  1.2018,  1.4523,  ..., -0.3345, -0.4580, -0.2169]],\n",
       " \n",
       "         [[-0.7505, -1.4288, -0.4155,  ..., -1.0119, -4.1160,  1.5524],\n",
       "          [-1.8397,  0.3397, -1.9848,  ...,  0.4958, -1.4936,  0.2679],\n",
       "          [-2.5853,  0.0447,  2.7567,  ...,  0.3543, -2.0029,  1.0998],\n",
       "          [ 0.2571, -1.6886, -0.3326,  ...,  1.8715, -1.3818, -0.3171]],\n",
       " \n",
       "         [[-2.2270, -1.1905,  0.3365,  ...,  0.3977, -4.8627,  3.0772],\n",
       "          [ 0.0841, -0.4678, -2.2273,  ..., -0.7817, -0.8632, -1.2942],\n",
       "          [-0.2755,  0.9982,  0.8002,  ...,  1.4437, -0.3979, -1.4590],\n",
       "          [ 3.2211, -0.3466,  0.5343,  ...,  0.9414, -1.7947, -0.2099]]],\n",
       "        grad_fn=<AddBackward0>),\n",
       " torch.Size([8, 4, 256]))"
      ]
     },
     "execution_count": 39,
     "metadata": {},
     "output_type": "execute_result"
    }
   ],
   "source": [
    "# input_embeddings = token embeddings + positional embeddings\n",
    "input_embeddings = token_embeddings + pos_embeddings\n",
    "input_embeddings, input_embeddings.shape"
   ]
  },
  {
   "cell_type": "code",
   "execution_count": null,
   "id": "3d4c0f9d",
   "metadata": {},
   "outputs": [],
   "source": []
  }
 ],
 "metadata": {
  "kernelspec": {
   "display_name": "sophia-dl",
   "language": "python",
   "name": "python3"
  },
  "language_info": {
   "codemirror_mode": {
    "name": "ipython",
    "version": 3
   },
   "file_extension": ".py",
   "mimetype": "text/x-python",
   "name": "python",
   "nbconvert_exporter": "python",
   "pygments_lexer": "ipython3",
   "version": "3.9.20"
  }
 },
 "nbformat": 4,
 "nbformat_minor": 5
}
