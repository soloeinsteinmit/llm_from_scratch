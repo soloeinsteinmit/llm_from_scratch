{
 "cells": [
  {
   "cell_type": "markdown",
   "id": "caa7e03f",
   "metadata": {},
   "source": [
    "# **POSITIONAL EMBEDDINGS (ENCODING WORD POSITIONS)**\n",
    "\n",
    "NB: lecture note found here **[🔹 Lecture 11 Notes 🔹](lecture_11_notes.md)**\n"
   ]
  },
  {
   "cell_type": "code",
   "execution_count": 3,
   "id": "df607378",
   "metadata": {},
   "outputs": [],
   "source": [
    "import torch\n",
    "import tiktoken\n",
    "from custom_dataloader import create_dataloader_v1, GPTDatasetV1"
   ]
  },
  {
   "cell_type": "code",
   "execution_count": 4,
   "id": "3ed7c868",
   "metadata": {},
   "outputs": [],
   "source": [
    "with open(\"./data/the-verdict.txt\", 'r', encoding=\"utf-8\") as f:\n",
    "    raw_text = f.read()"
   ]
  },
  {
   "cell_type": "code",
   "execution_count": 10,
   "id": "828fd0b5",
   "metadata": {},
   "outputs": [
    {
     "data": {
      "text/plain": [
       "Parameter containing:\n",
       "tensor([[-0.1322, -1.0795,  0.4270,  ...,  1.6420, -0.4077, -0.5162],\n",
       "        [-0.3450, -0.4059,  0.3453,  ...,  0.1215, -0.0983, -0.4092],\n",
       "        [-1.8289,  0.0304, -0.6266,  ...,  0.2480, -2.8811,  1.5240],\n",
       "        ...,\n",
       "        [-0.5901,  0.9721, -1.0013,  ..., -1.3787,  0.2654,  0.5331],\n",
       "        [ 0.1178, -0.6282,  0.4698,  ...,  0.8226,  2.7149,  0.1021],\n",
       "        [ 1.1243,  1.0180, -0.4790,  ..., -1.7093, -0.0516, -1.0938]],\n",
       "       requires_grad=True)"
      ]
     },
     "execution_count": 10,
     "metadata": {},
     "output_type": "execute_result"
    }
   ],
   "source": [
    "vocab_size = 50257\n",
    "output_dim = 256\n",
    "\n",
    "token_embedding_layer = torch.nn.Embedding(vocab_size, output_dim)\n",
    "token_embedding_layer.weight"
   ]
  },
  {
   "cell_type": "code",
   "execution_count": 5,
   "id": "c74630bf",
   "metadata": {},
   "outputs": [],
   "source": [
    "# instantiate the data loader\n",
    "max_length = 4\n",
    "dataloader = create_dataloader_v1(\n",
    "    raw_text, batch_size=8, max_length=max_length,\n",
    "    stride=max_length, shuffle=False\n",
    ")\n",
    "\n",
    "data_iter = iter(dataloader)\n",
    "inputs, targets = next(data_iter)"
   ]
  },
  {
   "cell_type": "code",
   "execution_count": 6,
   "id": "ae8ea29c",
   "metadata": {},
   "outputs": [
    {
     "name": "stdout",
     "output_type": "stream",
     "text": [
      "Token IDs:\n",
      " tensor([[   40,   367,  2885,  1464],\n",
      "        [ 1807,  3619,   402,   271],\n",
      "        [10899,  2138,   257,  7026],\n",
      "        [15632,   438,  2016,   257],\n",
      "        [  922,  5891,  1576,   438],\n",
      "        [  568,   340,   373,   645],\n",
      "        [ 1049,  5975,   284,   502],\n",
      "        [  284,  3285,   326,    11]])\n",
      "\n",
      "Input shape:\n",
      " torch.Size([8, 4])\n"
     ]
    }
   ],
   "source": [
    "print(f\"Token IDs:\\n {inputs}\")\n",
    "print(f\"\\nInput shape:\\n {inputs.shape}\")"
   ]
  },
  {
   "cell_type": "code",
   "execution_count": 11,
   "id": "9a8dc86e",
   "metadata": {},
   "outputs": [
    {
     "name": "stdout",
     "output_type": "stream",
     "text": [
      "torch.Size([8, 4, 256])\n",
      "tensor([[[-3.2597e-01,  1.0433e+00,  2.5089e-02,  ..., -2.1286e-01,\n",
      "          -8.5106e-01,  1.7701e+00],\n",
      "         [-2.6661e-01, -2.5382e-01,  1.1152e+00,  ..., -4.0431e-01,\n",
      "           2.9990e-02, -5.4534e-01],\n",
      "         [-1.1300e+00, -3.4806e-01, -1.7051e+00,  ..., -8.5019e-01,\n",
      "          -1.1515e-01, -6.7580e-01],\n",
      "         [ 7.7264e-02, -2.5572e-01,  9.3243e-01,  ..., -3.7211e-01,\n",
      "          -1.0206e+00, -8.5347e-01]],\n",
      "\n",
      "        [[-8.3537e-01, -7.8160e-01,  3.0980e-01,  ...,  4.7375e-01,\n",
      "           1.6835e-01, -5.9961e-01],\n",
      "         [-2.2535e-02,  1.6937e-01, -6.8598e-01,  ...,  1.6706e+00,\n",
      "           4.4325e-01,  7.8404e-01],\n",
      "         [-1.1746e+00,  1.1598e+00, -1.9970e+00,  ...,  1.9518e-01,\n",
      "           6.8821e-01,  8.9638e-01],\n",
      "         [ 1.1152e+00, -4.0808e-01, -2.4209e+00,  ..., -8.7517e-02,\n",
      "           5.8678e-01, -1.5194e+00]],\n",
      "\n",
      "        [[-8.1297e-01, -4.4303e-01, -1.3537e+00,  ...,  1.3536e+00,\n",
      "           1.8013e+00, -6.1993e-01],\n",
      "         [-3.0130e-01, -1.0716e+00, -4.2511e-01,  ...,  1.0120e+00,\n",
      "           1.1845e+00, -1.8505e+00],\n",
      "         [-1.2732e+00,  1.4033e+00, -9.9368e-01,  ..., -9.4987e-02,\n",
      "          -1.7855e-02,  1.0537e+00],\n",
      "         [ 3.9861e-01,  1.3085e+00,  1.0885e-01,  ...,  7.0420e-01,\n",
      "           2.8804e-02, -1.2778e-01]],\n",
      "\n",
      "        ...,\n",
      "\n",
      "        [[ 6.4684e-01,  8.4661e-01,  8.7742e-01,  ..., -1.2418e+00,\n",
      "          -2.1040e+00, -1.0299e+00],\n",
      "         [-2.9684e+00,  2.2508e+00,  2.2985e-01,  ..., -9.4108e-01,\n",
      "           4.8569e-01,  1.5267e+00],\n",
      "         [-5.4832e-01,  5.5234e-01,  2.0989e+00,  ...,  1.2367e+00,\n",
      "          -9.3436e-01, -1.6824e+00],\n",
      "         [-2.8883e-02, -6.6761e-01, -3.9549e-01,  ..., -1.3168e+00,\n",
      "          -1.1224e+00, -1.7666e-03]],\n",
      "\n",
      "        [[-4.7771e-01,  3.3716e-01, -6.9316e-01,  ...,  5.1621e-01,\n",
      "           7.3925e-01, -1.5307e+00],\n",
      "         [ 9.3924e-01, -5.6199e-01,  1.3944e-01,  ..., -1.2671e+00,\n",
      "          -1.9944e-01,  2.8822e-01],\n",
      "         [ 3.6977e-01,  3.4247e-01, -1.2697e+00,  ...,  6.3537e-01,\n",
      "          -1.2411e+00,  6.2872e-01],\n",
      "         [-7.7474e-01, -2.6399e-01, -3.9604e-01,  ..., -7.7298e-01,\n",
      "          -4.5951e-01,  1.0044e+00]],\n",
      "\n",
      "        [[ 3.6977e-01,  3.4247e-01, -1.2697e+00,  ...,  6.3537e-01,\n",
      "          -1.2411e+00,  6.2872e-01],\n",
      "         [-1.1798e+00,  6.7990e-01, -1.2377e+00,  ...,  2.5924e-01,\n",
      "           8.9687e-01, -1.9082e-01],\n",
      "         [ 4.3400e-01,  3.7637e-01, -4.0077e-01,  ...,  2.1685e-02,\n",
      "           3.6759e-01,  9.5981e-01],\n",
      "         [-8.6067e-01, -9.8712e-01,  1.4022e-01,  ...,  1.8552e-01,\n",
      "           3.0286e-01, -1.0604e+00]]], grad_fn=<EmbeddingBackward0>)\n"
     ]
    }
   ],
   "source": [
    "# for each each in a batch, one embedding vector of `256` length is generated for each token in input\n",
    "token_embedding = token_embedding_layer(inputs)\n",
    "print(token_embedding.shape)\n",
    "print(token_embedding)"
   ]
  },
  {
   "cell_type": "code",
   "execution_count": 12,
   "id": "608da9cb",
   "metadata": {},
   "outputs": [],
   "source": [
    "context_length = max_length\n",
    "# in position encoding, the number of rows should always be the same as the context length and also the columns should also match vector dimension\n",
    "pos_embedding_layer = torch.nn.Embedding(context_length, output_dim)"
   ]
  },
  {
   "cell_type": "code",
   "execution_count": 14,
   "id": "df48401f",
   "metadata": {},
   "outputs": [
    {
     "name": "stdout",
     "output_type": "stream",
     "text": [
      "torch.Size([4, 256])\n",
      "tensor([[-0.4073,  0.6113, -1.2282,  ..., -0.9778,  0.4884, -1.7974],\n",
      "        [ 0.6138,  1.0506,  1.6585,  ..., -0.7342,  0.0286,  1.1887],\n",
      "        [ 0.7795,  0.5807,  0.2142,  ...,  0.2365,  1.0706, -1.4617],\n",
      "        [ 1.3325,  0.8733,  0.1519,  ...,  0.0089, -0.6072, -1.5975]],\n",
      "       grad_fn=<EmbeddingBackward0>)\n"
     ]
    }
   ],
   "source": [
    "pos_embeddings = pos_embedding_layer(torch.arange(max_length))\n",
    "print(pos_embeddings.shape)\n",
    "print(pos_embeddings)"
   ]
  },
  {
   "cell_type": "code",
   "execution_count": null,
   "id": "295007d9",
   "metadata": {},
   "outputs": [],
   "source": []
  }
 ],
 "metadata": {
  "kernelspec": {
   "display_name": "sophia-dl",
   "language": "python",
   "name": "python3"
  },
  "language_info": {
   "codemirror_mode": {
    "name": "ipython",
    "version": 3
   },
   "file_extension": ".py",
   "mimetype": "text/x-python",
   "name": "python",
   "nbconvert_exporter": "python",
   "pygments_lexer": "ipython3",
   "version": "3.9.20"
  }
 },
 "nbformat": 4,
 "nbformat_minor": 5
}
