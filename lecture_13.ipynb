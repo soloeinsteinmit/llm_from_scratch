{
 "cells": [
  {
   "cell_type": "markdown",
   "id": "e72c8638",
   "metadata": {},
   "source": [
    "# **`Attention` is all you need**\n",
    "\n",
    "NB: lecture note found here **[🔹 Lecture 13 Notes 🔹](lecture_13_notes.md)**\n"
   ]
  },
  {
   "cell_type": "markdown",
   "id": "1fb0c1ba",
   "metadata": {},
   "source": []
  }
 ],
 "metadata": {
  "kernelspec": {
   "display_name": "sophia-dl",
   "language": "python",
   "name": "python3"
  },
  "language_info": {
   "name": "python",
   "version": "3.9.20"
  }
 },
 "nbformat": 4,
 "nbformat_minor": 5
}
